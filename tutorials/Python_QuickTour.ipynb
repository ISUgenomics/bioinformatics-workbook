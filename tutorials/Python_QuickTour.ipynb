{
 "cells": [
  {
   "cell_type": "markdown",
   "metadata": {},
   "source": [
    "# Python QuickTour\n",
    "\n",
    "**Last Update:** 17 Dec 2020 | Run through of data types, functions, packages\n",
    "\n",
    "This is a quick tour of the python language. Any language will have:\n",
    "\n",
    "* Data types\n",
    "* Functions (create reusuable chunks of your own analysis)\n",
    "* Packages/Libraries (re-use other people's functions)\n",
    "\n",
    "A good understanding of the above should give you a solid foundation for creating, debugging, and designing your own python analysis pipeline.\n",
    "\n",
    "**More Information**\n",
    "\n",
    "* [An Informal Introduction to Python](https://docs.python.org/3/tutorial/introduction.html)\n",
    "\n",
    "* [w3schools: Interactive Python Tutorial](https://www.w3schools.com/python/python_intro.asp)"
   ]
  },
  {
   "cell_type": "markdown",
   "metadata": {},
   "source": [
    "## Data types"
   ]
  },
  {
   "cell_type": "code",
   "execution_count": null,
   "metadata": {},
   "outputs": [],
   "source": [
    "mystr = \"Hello World\"             # String\n",
    "myint = 1                         # Integers\n",
    "mydob = 2.2                       # Double or floating point numbers\n",
    "\n",
    "print(mystr)\n",
    "print(myint)\n",
    "print(mydob)"
   ]
  },
  {
   "cell_type": "markdown",
   "metadata": {},
   "source": [
    "# Functions"
   ]
  },
  {
   "cell_type": "code",
   "execution_count": null,
   "metadata": {},
   "outputs": [],
   "source": [
    "def myfunction():\n",
    "    print(\"Hello from myfunction!\")"
   ]
  },
  {
   "cell_type": "code",
   "execution_count": null,
   "metadata": {},
   "outputs": [],
   "source": [
    "myfunction()"
   ]
  },
  {
   "cell_type": "markdown",
   "metadata": {},
   "source": [
    "# Python Libraries"
   ]
  },
  {
   "cell_type": "code",
   "execution_count": null,
   "metadata": {},
   "outputs": [],
   "source": [
    "# import numpy"
   ]
  }
 ],
 "metadata": {
  "kernelspec": {
   "display_name": "Python 3",
   "language": "python",
   "name": "python3"
  },
  "language_info": {
   "codemirror_mode": {
    "name": "ipython",
    "version": 3
   },
   "file_extension": ".py",
   "mimetype": "text/x-python",
   "name": "python",
   "nbconvert_exporter": "python",
   "pygments_lexer": "ipython3",
   "version": "3.8.5"
  }
 },
 "nbformat": 4,
 "nbformat_minor": 4
}
